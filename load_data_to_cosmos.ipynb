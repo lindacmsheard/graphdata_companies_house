{
 "cells": [
  {
   "cell_type": "code",
   "execution_count": 12,
   "metadata": {},
   "outputs": [
    {
     "data": {
      "text/plain": [
       "'/home/lisheard/miniconda3/envs/cosmospy37/bin/python'"
      ]
     },
     "execution_count": 12,
     "metadata": {},
     "output_type": "execute_result"
    }
   ],
   "source": [
    "import sys\n",
    "sys.executable"
   ]
  },
  {
   "cell_type": "code",
   "execution_count": 22,
   "metadata": {},
   "outputs": [],
   "source": [
    "from dotenv import dotenv_values\n",
    "\n",
    "config = dotenv_values('./.env')\n",
    "#config = dotenv_values('./.env_serverless')"
   ]
  },
  {
   "cell_type": "code",
   "execution_count": 23,
   "metadata": {},
   "outputs": [
    {
     "data": {
      "text/plain": [
       "False"
      ]
     },
     "execution_count": 23,
     "metadata": {},
     "output_type": "execute_result"
    }
   ],
   "source": [
    "serverless = config['MODE']=='serverless'\n",
    "serverless"
   ]
  },
  {
   "cell_type": "code",
   "execution_count": 25,
   "metadata": {},
   "outputs": [
    {
     "data": {
      "text/plain": [
       "'https://explorecosmos.documents.azure.com:443/'"
      ]
     },
     "execution_count": 25,
     "metadata": {},
     "output_type": "execute_result"
    }
   ],
   "source": [
    "from azure.cosmos import CosmosClient\n",
    "\n",
    "import os\n",
    "#url = os.environ['ACCOUNT_URI']\n",
    "#key = os.environ['ACCOUNT_KEY']\n",
    "url = config['ACCOUNT_URI']\n",
    "key = config['ACCOUNT_KEY']\n",
    "client = CosmosClient(url, credential=key)\n",
    "url"
   ]
  },
  {
   "cell_type": "code",
   "execution_count": 28,
   "metadata": {},
   "outputs": [],
   "source": [
    "database = client.get_database_client('docs_db')\n",
    "container = database.get_container_client('PSC-sample')\n",
    "#container = database.get_container_client('PSC')    # populated with 500k records from ADF"
   ]
  },
  {
   "cell_type": "code",
   "execution_count": 5,
   "metadata": {},
   "outputs": [],
   "source": [
    "from azure.cosmos import exceptions\n",
    "import os\n",
    "\n",
    "database_name = 'docs_db'\n",
    "try:\n",
    "    database = client.create_database(database_name)\n",
    "except exceptions.CosmosResourceExistsError:\n",
    "    database = client.get_database_client(database_name)"
   ]
  },
  {
   "cell_type": "code",
   "execution_count": 6,
   "metadata": {},
   "outputs": [],
   "source": [
    "from azure.cosmos import PartitionKey\n",
    "container_name = 'PSC-sample'\n",
    "\n",
    "try:\n",
    "    container = database.create_container(id=container_name, partition_key=PartitionKey(path=\"/company_number\"))\n",
    "except exceptions.CosmosResourceExistsError:\n",
    "    container = database.get_container_client(container_name)\n",
    "except exceptions.CosmosHttpResponseError:\n",
    "    raise"
   ]
  },
  {
   "cell_type": "code",
   "execution_count": 7,
   "metadata": {},
   "outputs": [],
   "source": [
    "# Insert jsonlines data"
   ]
  },
  {
   "cell_type": "code",
   "execution_count": 8,
   "metadata": {},
   "outputs": [
    {
     "data": {
      "text/plain": [
       "{'id': 'PSC-sample',\n",
       " 'indexingPolicy': {'indexingMode': 'consistent',\n",
       "  'automatic': True,\n",
       "  'includedPaths': [{'path': '/*'}],\n",
       "  'excludedPaths': [{'path': '/\"_etag\"/?'}]},\n",
       " 'partitionKey': {'paths': ['/company_number'], 'kind': 'Hash', 'version': 2},\n",
       " 'conflictResolutionPolicy': {'mode': 'LastWriterWins',\n",
       "  'conflictResolutionPath': '/_ts',\n",
       "  'conflictResolutionProcedure': ''},\n",
       " 'geospatialConfig': {'type': 'Geography'},\n",
       " '_rid': 'MVhlAOI57UE=',\n",
       " '_ts': 1633634034,\n",
       " '_self': 'dbs/MVhlAA==/colls/MVhlAOI57UE=/',\n",
       " '_etag': '\"0000209a-0000-1100-0000-615f46f20000\"',\n",
       " '_docs': 'docs/',\n",
       " '_sprocs': 'sprocs/',\n",
       " '_triggers': 'triggers/',\n",
       " '_udfs': 'udfs/',\n",
       " '_conflicts': 'conflicts/'}"
      ]
     },
     "execution_count": 8,
     "metadata": {},
     "output_type": "execute_result"
    }
   ],
   "source": [
    "container.read()"
   ]
  },
  {
   "cell_type": "code",
   "execution_count": 9,
   "metadata": {},
   "outputs": [],
   "source": [
    "indexing_off = {\n",
    "    'indexingMode': 'consistent',\n",
    "    'automatic': True,\n",
    "    'excludedPaths': [{'path': '/*'}]}"
   ]
  },
  {
   "cell_type": "code",
   "execution_count": 10,
   "metadata": {},
   "outputs": [],
   "source": [
    "indexing_on = {\n",
    "    'indexingMode': 'consistent',\n",
    "    'automatic': True,\n",
    "    'includedPaths': [{'path': '/*'}],\n",
    "    'excludedPaths': [{'path': '/\"_etag\"/?'}]}"
   ]
  },
  {
   "cell_type": "code",
   "execution_count": 11,
   "metadata": {},
   "outputs": [],
   "source": [
    "response = database.replace_container(container, container.read()['partitionKey'], indexing_off)"
   ]
  },
  {
   "cell_type": "code",
   "execution_count": 12,
   "metadata": {},
   "outputs": [
    {
     "name": "stdout",
     "output_type": "stream",
     "text": [
      "100\n"
     ]
    },
    {
     "data": {
      "text/plain": [
       "{'id': 'PSC-sample',\n",
       " 'indexingPolicy': {'indexingMode': 'consistent',\n",
       "  'automatic': True,\n",
       "  'includedPaths': [],\n",
       "  'excludedPaths': [{'path': '/*'}, {'path': '/\"_etag\"/?'}]},\n",
       " 'partitionKey': {'paths': ['/company_number'], 'kind': 'Hash', 'version': 2},\n",
       " 'conflictResolutionPolicy': {'mode': 'LastWriterWins',\n",
       "  'conflictResolutionPath': '/_ts',\n",
       "  'conflictResolutionProcedure': ''},\n",
       " 'geospatialConfig': {'type': 'Geography'},\n",
       " '_rid': 'MVhlAOI57UE=',\n",
       " '_ts': 1633634053,\n",
       " '_self': 'dbs/MVhlAA==/colls/MVhlAOI57UE=/',\n",
       " '_etag': '\"0000249a-0000-1100-0000-615f47050000\"',\n",
       " '_docs': 'docs/',\n",
       " '_sprocs': 'sprocs/',\n",
       " '_triggers': 'triggers/',\n",
       " '_udfs': 'udfs/',\n",
       " '_conflicts': 'conflicts/'}"
      ]
     },
     "execution_count": 12,
     "metadata": {},
     "output_type": "execute_result"
    }
   ],
   "source": [
    "container.read(populate_quota_info = True,\n",
    "                      response_hook = lambda h,p: print(h['x-ms-documentdb-collection-index-transformation-progress']))"
   ]
  },
  {
   "cell_type": "code",
   "execution_count": 19,
   "metadata": {},
   "outputs": [],
   "source": [
    "if not serverless:\n",
    "    container.replace_throughput(4000).properties"
   ]
  },
  {
   "cell_type": "code",
   "execution_count": 14,
   "metadata": {},
   "outputs": [],
   "source": [
    "from ratelimit import limits, sleep_and_retry\n",
    "\n",
    "# throttle the upsert request to 100 per second\n",
    "# we now have 4000 RU per second, and one insertion is ~12 RU\n",
    "# so throttle to 300 calls per second\n",
    "# this should mean inserting 500k docs in <30 minutes without 429 errors\n",
    "\n",
    "@sleep_and_retry\n",
    "@limits(calls=300, period=1)\n",
    "def throttled_upsert(doc):\n",
    "    container.upsert_item(doc)\n",
    "    #print(container.client_connection.last_response_headers['x-ms-request-charge'])\n"
   ]
  },
  {
   "cell_type": "code",
   "execution_count": 70,
   "metadata": {},
   "outputs": [
    {
     "name": "stdout",
     "output_type": "stream",
     "text": [
      "10.29\n"
     ]
    }
   ],
   "source": [
    "#throttled_upsert(sampledoc)"
   ]
  },
  {
   "cell_type": "code",
   "execution_count": null,
   "metadata": {},
   "outputs": [],
   "source": [
    "import jsonlines\n",
    "\n",
    "#data = './sampledata/psc-sample.jsonl'\n",
    "data = './sampledata/psc-snapshot-2021-10-07_1of20.txt'\n",
    "i = 0\n",
    "with jsonlines.open(data) as reader:\n",
    "    for obj in reader:\n",
    "        i+=1\n",
    "        obj['id']=str(hash(obj['data']['links']['self']))\n",
    "        if serverless:\n",
    "            container.upsert_item(obj)\n",
    "        else: \n",
    "            throttled_upsert(obj)\n",
    "        if i % 1000 == 0:\n",
    "            print(f'{i} objects processed')"
   ]
  },
  {
   "cell_type": "code",
   "execution_count": 20,
   "metadata": {},
   "outputs": [],
   "source": [
    "# scale back down after import\n",
    "if not serverless:\n",
    "    container.replace_throughput(400).properties"
   ]
  },
  {
   "cell_type": "markdown",
   "metadata": {},
   "source": [
    "# Query Database"
   ]
  },
  {
   "cell_type": "markdown",
   "metadata": {},
   "source": []
  },
  {
   "cell_type": "code",
   "execution_count": 33,
   "metadata": {},
   "outputs": [
    {
     "name": "stdout",
     "output_type": "stream",
     "text": [
      "430934 records\n"
     ]
    }
   ],
   "source": [
    "# Count records\n",
    "q = 'SELECT VALUE COUNT(1) FROM PSC'\n",
    "res = container.query_items(\n",
    "        query=q,\n",
    "        enable_cross_partition_query=True)\n",
    "print(list(res)[0], 'records')\n"
   ]
  },
  {
   "cell_type": "code",
   "execution_count": 68,
   "metadata": {},
   "outputs": [
    {
     "data": {
      "text/plain": [
       "{'company_number': '07328553',\n",
       " 'data': {'address': {'address_line_1': 'Goosander Way',\n",
       "   'locality': 'London',\n",
       "   'postal_code': 'SE28 0ER',\n",
       "   'premises': '5'},\n",
       "  'ceased_on': '2017-09-01',\n",
       "  'country_of_residence': 'England',\n",
       "  'date_of_birth': {'month': 6, 'year': 1981},\n",
       "  'etag': 'bc02fa3138d0c2de20ac569bcffe41e320bcf3a1',\n",
       "  'kind': 'individual-person-with-significant-control',\n",
       "  'links': {'self': '/company/07328553/persons-with-significant-control/individual/H5NJcJ-5crTRDoYTBL6Y9GNvGIU'},\n",
       "  'name': 'Mrs Charlotte Eseku',\n",
       "  'name_elements': {'forename': 'Charlotte',\n",
       "   'surname': 'Eseku',\n",
       "   'title': 'Mrs'},\n",
       "  'nationality': 'British',\n",
       "  'natures_of_control': ['ownership-of-shares-25-to-50-percent'],\n",
       "  'notified_on': '2016-06-30'},\n",
       " 'id': '432122976140361427',\n",
       " '_rid': 'V9tpAPHLFywrAAAAAAAAAA==',\n",
       " '_self': 'dbs/V9tpAA==/colls/V9tpAPHLFyw=/docs/V9tpAPHLFywrAAAAAAAAAA==/',\n",
       " '_etag': '\"0300ecd2-0000-1100-0000-615f2d3c0000\"',\n",
       " '_attachments': 'attachments/',\n",
       " '_ts': 1633627452}"
      ]
     },
     "execution_count": 68,
     "metadata": {},
     "output_type": "execute_result"
    }
   ],
   "source": [
    "q = 'SELECT * FROM PSC'\n",
    "q = 'SELECT TOP 1 * FROM PSC'\n",
    "res = container.query_items(\n",
    "        query=q,\n",
    "        enable_cross_partition_query=True)\n",
    "#print(len(list(res)), 'records')\n",
    "sampledoc = list(res)[0]\n",
    "sampledoc"
   ]
  },
  {
   "cell_type": "code",
   "execution_count": 10,
   "metadata": {},
   "outputs": [
    {
     "data": {
      "text/plain": [
       "'2.89'"
      ]
     },
     "execution_count": 10,
     "metadata": {},
     "output_type": "execute_result"
    }
   ],
   "source": [
    "client.client_connection.last_response_headers['x-ms-request-charge']"
   ]
  },
  {
   "cell_type": "markdown",
   "metadata": {},
   "source": [
    "# Cleanup"
   ]
  },
  {
   "cell_type": "code",
   "execution_count": 90,
   "metadata": {},
   "outputs": [],
   "source": [
    "# delete container\n",
    "database.delete_container(container)"
   ]
  },
  {
   "cell_type": "code",
   "execution_count": null,
   "metadata": {},
   "outputs": [],
   "source": []
  }
 ],
 "metadata": {
  "interpreter": {
   "hash": "f8626b13bd26b798ae62a510ffe19e909b2e37c9eabc9f85694104e284b10a77"
  },
  "kernelspec": {
   "display_name": "Python 3.7.9 64-bit ('cosmospy37': conda)",
   "name": "python3"
  },
  "language_info": {
   "codemirror_mode": {
    "name": "ipython",
    "version": 3
   },
   "file_extension": ".py",
   "mimetype": "text/x-python",
   "name": "python",
   "nbconvert_exporter": "python",
   "pygments_lexer": "ipython3",
   "version": "3.7.9"
  },
  "orig_nbformat": 4
 },
 "nbformat": 4,
 "nbformat_minor": 2
}
